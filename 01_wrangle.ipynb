{
 "cells": [
  {
   "cell_type": "code",
   "execution_count": 1,
   "id": "8f135b7e",
   "metadata": {},
   "outputs": [],
   "source": [
    "import pandas as pd\n",
    "import numpy as np\n",
    "\n",
    "pd.set_option('display.max_columns', None) #to supress column truncation\n",
    "# pd.set_option('display.max_rows', None) "
   ]
  },
  {
   "cell_type": "markdown",
   "id": "265d88b7",
   "metadata": {},
   "source": [
    "# Importing data and reading to dfs to combine into single df"
   ]
  },
  {
   "cell_type": "markdown",
   "id": "5326b2ce",
   "metadata": {},
   "source": [
    "### Reading the `311_service_data` csv to a df."
   ]
  },
  {
   "cell_type": "code",
   "execution_count": 2,
   "id": "9b071492",
   "metadata": {},
   "outputs": [
    {
     "data": {
      "text/html": [
       "<div>\n",
       "<style scoped>\n",
       "    .dataframe tbody tr th:only-of-type {\n",
       "        vertical-align: middle;\n",
       "    }\n",
       "\n",
       "    .dataframe tbody tr th {\n",
       "        vertical-align: top;\n",
       "    }\n",
       "\n",
       "    .dataframe thead th {\n",
       "        text-align: right;\n",
       "    }\n",
       "</style>\n",
       "<table border=\"1\" class=\"dataframe\">\n",
       "  <thead>\n",
       "    <tr style=\"text-align: right;\">\n",
       "      <th></th>\n",
       "      <th>Category</th>\n",
       "      <th>CASEID</th>\n",
       "      <th>OPENEDDATETIME</th>\n",
       "      <th>SLA_Date</th>\n",
       "      <th>CLOSEDDATETIME</th>\n",
       "      <th>Late (Yes/No)</th>\n",
       "      <th>Dept</th>\n",
       "      <th>REASONNAME</th>\n",
       "      <th>TYPENAME</th>\n",
       "      <th>CaseStatus</th>\n",
       "      <th>SourceID</th>\n",
       "      <th>OBJECTDESC</th>\n",
       "      <th>Council District</th>\n",
       "      <th>XCOORD</th>\n",
       "      <th>YCOORD</th>\n",
       "      <th>Report Starting Date</th>\n",
       "      <th>Report Ending Date</th>\n",
       "    </tr>\n",
       "  </thead>\n",
       "  <tbody>\n",
       "    <tr>\n",
       "      <th>0</th>\n",
       "      <td>Graffiti</td>\n",
       "      <td>1010444245</td>\n",
       "      <td>8/15/2012</td>\n",
       "      <td>8/30/2012</td>\n",
       "      <td>NaN</td>\n",
       "      <td>YES</td>\n",
       "      <td>Code Enforcement Services</td>\n",
       "      <td>Graffiti</td>\n",
       "      <td>Graffiti Public Property</td>\n",
       "      <td>Open</td>\n",
       "      <td>Web Portal</td>\n",
       "      <td>600  NOGALITOS ST, San Antonio, 78204</td>\n",
       "      <td>5</td>\n",
       "      <td>2125683.0</td>\n",
       "      <td>13695548.0</td>\n",
       "      <td>1/15/2021</td>\n",
       "      <td>1/15/2022</td>\n",
       "    </tr>\n",
       "    <tr>\n",
       "      <th>1</th>\n",
       "      <td>Property Maintenance</td>\n",
       "      <td>1010888252</td>\n",
       "      <td>6/6/2013</td>\n",
       "      <td>8/9/2013</td>\n",
       "      <td>NaN</td>\n",
       "      <td>YES</td>\n",
       "      <td>Code Enforcement Services</td>\n",
       "      <td>Code Enforcement (IntExp)</td>\n",
       "      <td>Alley-Way Maintenance</td>\n",
       "      <td>Open</td>\n",
       "      <td>Web Portal</td>\n",
       "      <td>6043  CASTLE QUEEN, San Antonio, 78218</td>\n",
       "      <td>2</td>\n",
       "      <td>2169702.0</td>\n",
       "      <td>13725769.0</td>\n",
       "      <td>1/15/2021</td>\n",
       "      <td>1/15/2022</td>\n",
       "    </tr>\n",
       "  </tbody>\n",
       "</table>\n",
       "</div>"
      ],
      "text/plain": [
       "               Category      CASEID OPENEDDATETIME   SLA_Date CLOSEDDATETIME  \\\n",
       "0              Graffiti  1010444245      8/15/2012  8/30/2012            NaN   \n",
       "1  Property Maintenance  1010888252       6/6/2013   8/9/2013            NaN   \n",
       "\n",
       "  Late (Yes/No)                       Dept                 REASONNAME  \\\n",
       "0           YES  Code Enforcement Services                   Graffiti   \n",
       "1           YES  Code Enforcement Services  Code Enforcement (IntExp)   \n",
       "\n",
       "                   TYPENAME CaseStatus    SourceID  \\\n",
       "0  Graffiti Public Property       Open  Web Portal   \n",
       "1     Alley-Way Maintenance       Open  Web Portal   \n",
       "\n",
       "                               OBJECTDESC  Council District     XCOORD  \\\n",
       "0   600  NOGALITOS ST, San Antonio, 78204                 5  2125683.0   \n",
       "1  6043  CASTLE QUEEN, San Antonio, 78218                 2  2169702.0   \n",
       "\n",
       "       YCOORD Report Starting Date Report Ending Date  \n",
       "0  13695548.0            1/15/2021          1/15/2022  \n",
       "1  13725769.0            1/15/2021          1/15/2022  "
      ]
     },
     "execution_count": 2,
     "metadata": {},
     "output_type": "execute_result"
    }
   ],
   "source": [
    "service_data = pd.read_csv('311_service_data.csv')\n",
    "service_data.head(2)"
   ]
  },
  {
   "cell_type": "code",
   "execution_count": 3,
   "id": "c69c32e6",
   "metadata": {},
   "outputs": [
    {
     "data": {
      "text/plain": [
       "(521590, 17)"
      ]
     },
     "execution_count": 3,
     "metadata": {},
     "output_type": "execute_result"
    }
   ],
   "source": [
    "service_data.shape"
   ]
  },
  {
   "cell_type": "markdown",
   "id": "04a36a44",
   "metadata": {},
   "source": [
    "### Reading the `med_incomebyzip` csv to a df."
   ]
  },
  {
   "cell_type": "code",
   "execution_count": 4,
   "id": "3b38c205",
   "metadata": {},
   "outputs": [
    {
     "data": {
      "text/html": [
       "<div>\n",
       "<style scoped>\n",
       "    .dataframe tbody tr th:only-of-type {\n",
       "        vertical-align: middle;\n",
       "    }\n",
       "\n",
       "    .dataframe tbody tr th {\n",
       "        vertical-align: top;\n",
       "    }\n",
       "\n",
       "    .dataframe thead th {\n",
       "        text-align: right;\n",
       "    }\n",
       "</style>\n",
       "<table border=\"1\" class=\"dataframe\">\n",
       "  <thead>\n",
       "    <tr style=\"text-align: right;\">\n",
       "      <th></th>\n",
       "      <th>Zip Code</th>\n",
       "      <th>Location</th>\n",
       "      <th>Population</th>\n",
       "      <th>avg_household_income</th>\n",
       "      <th>Lat</th>\n",
       "      <th>Long</th>\n",
       "    </tr>\n",
       "  </thead>\n",
       "  <tbody>\n",
       "    <tr>\n",
       "      <th>0</th>\n",
       "      <td>78261</td>\n",
       "      <td>29.705479, -98.402849</td>\n",
       "      <td>1,119</td>\n",
       "      <td>$92,154.00</td>\n",
       "      <td>29.705479</td>\n",
       "      <td>-98.402849</td>\n",
       "    </tr>\n",
       "    <tr>\n",
       "      <th>1</th>\n",
       "      <td>78258</td>\n",
       "      <td>29.647111, -98.500768</td>\n",
       "      <td>17,355</td>\n",
       "      <td>$91,509.00</td>\n",
       "      <td>29.647111</td>\n",
       "      <td>-98.500768</td>\n",
       "    </tr>\n",
       "  </tbody>\n",
       "</table>\n",
       "</div>"
      ],
      "text/plain": [
       "   Zip Code               Location Population avg_household_income       Lat   \\\n",
       "0     78261  29.705479, -98.402849      1,119           $92,154.00  29.705479   \n",
       "1     78258  29.647111, -98.500768     17,355           $91,509.00  29.647111   \n",
       "\n",
       "        Long  \n",
       "0 -98.402849  \n",
       "1 -98.500768  "
      ]
     },
     "execution_count": 4,
     "metadata": {},
     "output_type": "execute_result"
    }
   ],
   "source": [
    "med_incomebyzip = pd.read_csv('med_incomebyzip.csv').drop(columns = ['#'])\n",
    "med_incomebyzip.head(2)"
   ]
  },
  {
   "cell_type": "code",
   "execution_count": 5,
   "id": "e5e5737c",
   "metadata": {},
   "outputs": [
    {
     "data": {
      "text/plain": [
       "(60, 6)"
      ]
     },
     "execution_count": 5,
     "metadata": {},
     "output_type": "execute_result"
    }
   ],
   "source": [
    "med_incomebyzip.shape"
   ]
  },
  {
   "cell_type": "markdown",
   "id": "2b37b9bf",
   "metadata": {},
   "source": [
    "### I could do an inner join on zip code and combine the dataframes. \n",
    "First, I need to modify the `OBJECTDESCR` address values in the `service_data` df to only show the zip codes. I can do this by calling the last 5 (-5) values.\n",
    "- Some addresses do not have a zip code. The inner join will eliminate those values from the joined df. Given additional time, I will come back and look up the zip codes for the address that do not have them."
   ]
  },
  {
   "cell_type": "code",
   "execution_count": 6,
   "id": "283412b7",
   "metadata": {},
   "outputs": [
    {
     "data": {
      "text/html": [
       "<div>\n",
       "<style scoped>\n",
       "    .dataframe tbody tr th:only-of-type {\n",
       "        vertical-align: middle;\n",
       "    }\n",
       "\n",
       "    .dataframe tbody tr th {\n",
       "        vertical-align: top;\n",
       "    }\n",
       "\n",
       "    .dataframe thead th {\n",
       "        text-align: right;\n",
       "    }\n",
       "</style>\n",
       "<table border=\"1\" class=\"dataframe\">\n",
       "  <thead>\n",
       "    <tr style=\"text-align: right;\">\n",
       "      <th></th>\n",
       "      <th>Category</th>\n",
       "      <th>CASEID</th>\n",
       "      <th>OPENEDDATETIME</th>\n",
       "      <th>SLA_Date</th>\n",
       "      <th>CLOSEDDATETIME</th>\n",
       "      <th>Late (Yes/No)</th>\n",
       "      <th>Dept</th>\n",
       "      <th>REASONNAME</th>\n",
       "      <th>TYPENAME</th>\n",
       "      <th>CaseStatus</th>\n",
       "      <th>SourceID</th>\n",
       "      <th>Council District</th>\n",
       "      <th>XCOORD</th>\n",
       "      <th>YCOORD</th>\n",
       "      <th>Report Starting Date</th>\n",
       "      <th>Report Ending Date</th>\n",
       "      <th>zip</th>\n",
       "    </tr>\n",
       "  </thead>\n",
       "  <tbody>\n",
       "    <tr>\n",
       "      <th>0</th>\n",
       "      <td>Graffiti</td>\n",
       "      <td>1010444245</td>\n",
       "      <td>8/15/2012</td>\n",
       "      <td>8/30/2012</td>\n",
       "      <td>NaN</td>\n",
       "      <td>YES</td>\n",
       "      <td>Code Enforcement Services</td>\n",
       "      <td>Graffiti</td>\n",
       "      <td>Graffiti Public Property</td>\n",
       "      <td>Open</td>\n",
       "      <td>Web Portal</td>\n",
       "      <td>5</td>\n",
       "      <td>2125683.0</td>\n",
       "      <td>13695548.0</td>\n",
       "      <td>1/15/2021</td>\n",
       "      <td>1/15/2022</td>\n",
       "      <td>78204</td>\n",
       "    </tr>\n",
       "    <tr>\n",
       "      <th>1</th>\n",
       "      <td>Property Maintenance</td>\n",
       "      <td>1010888252</td>\n",
       "      <td>6/6/2013</td>\n",
       "      <td>8/9/2013</td>\n",
       "      <td>NaN</td>\n",
       "      <td>YES</td>\n",
       "      <td>Code Enforcement Services</td>\n",
       "      <td>Code Enforcement (IntExp)</td>\n",
       "      <td>Alley-Way Maintenance</td>\n",
       "      <td>Open</td>\n",
       "      <td>Web Portal</td>\n",
       "      <td>2</td>\n",
       "      <td>2169702.0</td>\n",
       "      <td>13725769.0</td>\n",
       "      <td>1/15/2021</td>\n",
       "      <td>1/15/2022</td>\n",
       "      <td>78218</td>\n",
       "    </tr>\n",
       "  </tbody>\n",
       "</table>\n",
       "</div>"
      ],
      "text/plain": [
       "               Category      CASEID OPENEDDATETIME   SLA_Date CLOSEDDATETIME  \\\n",
       "0              Graffiti  1010444245      8/15/2012  8/30/2012            NaN   \n",
       "1  Property Maintenance  1010888252       6/6/2013   8/9/2013            NaN   \n",
       "\n",
       "  Late (Yes/No)                       Dept                 REASONNAME  \\\n",
       "0           YES  Code Enforcement Services                   Graffiti   \n",
       "1           YES  Code Enforcement Services  Code Enforcement (IntExp)   \n",
       "\n",
       "                   TYPENAME CaseStatus    SourceID  Council District  \\\n",
       "0  Graffiti Public Property       Open  Web Portal                 5   \n",
       "1     Alley-Way Maintenance       Open  Web Portal                 2   \n",
       "\n",
       "      XCOORD      YCOORD Report Starting Date Report Ending Date    zip  \n",
       "0  2125683.0  13695548.0            1/15/2021          1/15/2022  78204  \n",
       "1  2169702.0  13725769.0            1/15/2021          1/15/2022  78218  "
      ]
     },
     "execution_count": 6,
     "metadata": {},
     "output_type": "execute_result"
    }
   ],
   "source": [
    "# creating a for loop that will loop through each address value and give me the last 5 character in the string \n",
    "zips = []\n",
    "\n",
    "for address in service_data.OBJECTDESC:\n",
    "    zips.append(address[-5:])\n",
    "    \n",
    "# creating a new zip column for the df with those values\n",
    "service_data['zip'] = zips\n",
    "    \n",
    "# dropping the OBJECTDESC address column from the df\n",
    "service_data.drop(columns = ['OBJECTDESC'], inplace = True)\n",
    "service_data.head(2)"
   ]
  },
  {
   "cell_type": "code",
   "execution_count": 7,
   "id": "3d0e7b51",
   "metadata": {
    "scrolled": true
   },
   "outputs": [],
   "source": [
    "# the following line of code will allow me to see all of the rows so I can look at the nonnumeric values\n",
    "\n",
    "\n",
    "# nonzips = []\n",
    "# for value in service_data.zip:\n",
    "#     if value[0] != '7':\n",
    "#         nonzips.append(value)"
   ]
  },
  {
   "cell_type": "markdown",
   "id": "5dd6e41d",
   "metadata": {},
   "source": [
    ">### I am getting an error here: it apppears that the columns I am trying to merge on do not have the same dtypes"
   ]
  },
  {
   "cell_type": "code",
   "execution_count": 8,
   "id": "cf8ed532",
   "metadata": {
    "scrolled": true
   },
   "outputs": [],
   "source": [
    "# service_data.merge(med_incomebyzip, how = 'inner',\n",
    "#                   left_on = 'zip', right_on = 'Zip Code')"
   ]
  },
  {
   "cell_type": "code",
   "execution_count": 9,
   "id": "f62f6e9f",
   "metadata": {
    "scrolled": true
   },
   "outputs": [
    {
     "data": {
      "text/plain": [
       "dtype('O')"
      ]
     },
     "execution_count": 9,
     "metadata": {},
     "output_type": "execute_result"
    }
   ],
   "source": [
    "service_data.zip.dtype"
   ]
  },
  {
   "cell_type": "code",
   "execution_count": 10,
   "id": "8c899d9b",
   "metadata": {},
   "outputs": [
    {
     "data": {
      "text/plain": [
       "dtype('int64')"
      ]
     },
     "execution_count": 10,
     "metadata": {},
     "output_type": "execute_result"
    }
   ],
   "source": [
    "med_incomebyzip['Zip Code'].dtype"
   ]
  },
  {
   "cell_type": "markdown",
   "id": "0eefabb9",
   "metadata": {},
   "source": [
    "#### The first dataframe's zip codes are objects and the second's are integers\n",
    ">#### Since these will need to be objects I will convert the second dataframes zip codes to object values"
   ]
  },
  {
   "cell_type": "code",
   "execution_count": 11,
   "id": "c4bd8ce7",
   "metadata": {},
   "outputs": [],
   "source": [
    "# changing series dtype from int to object\n",
    "med_incomebyzip['Zip Code'] = med_incomebyzip['Zip Code'].astype('O')"
   ]
  },
  {
   "cell_type": "code",
   "execution_count": 12,
   "id": "30ec730d",
   "metadata": {},
   "outputs": [
    {
     "data": {
      "text/plain": [
       "dtype('O')"
      ]
     },
     "execution_count": 12,
     "metadata": {},
     "output_type": "execute_result"
    }
   ],
   "source": [
    "med_incomebyzip['Zip Code'].dtype"
   ]
  },
  {
   "cell_type": "code",
   "execution_count": 13,
   "id": "4fdf20f0",
   "metadata": {},
   "outputs": [
    {
     "data": {
      "text/plain": [
       "int"
      ]
     },
     "execution_count": 13,
     "metadata": {},
     "output_type": "execute_result"
    }
   ],
   "source": [
    "type(med_incomebyzip['Zip Code'][0])"
   ]
  },
  {
   "cell_type": "code",
   "execution_count": 14,
   "id": "df372269",
   "metadata": {
    "scrolled": true
   },
   "outputs": [
    {
     "data": {
      "text/plain": [
       "['78261', '78258', '78248', '78257', '78255']"
      ]
     },
     "execution_count": 14,
     "metadata": {},
     "output_type": "execute_result"
    }
   ],
   "source": [
    "Zip_Code = []\n",
    "\n",
    "for value in med_incomebyzip['Zip Code']:\n",
    "    Zip_Code.append(str(value))\n",
    "    \n",
    "Zip_Code[:5]"
   ]
  },
  {
   "cell_type": "code",
   "execution_count": 15,
   "id": "e86ca3a5",
   "metadata": {},
   "outputs": [
    {
     "data": {
      "text/plain": [
       "str"
      ]
     },
     "execution_count": 15,
     "metadata": {},
     "output_type": "execute_result"
    }
   ],
   "source": [
    "# replacing int Zip Code column with strings\n",
    "med_incomebyzip['Zip Code'] = Zip_Code\n",
    "type(med_incomebyzip['Zip Code'][0])"
   ]
  },
  {
   "cell_type": "markdown",
   "id": "90b53166",
   "metadata": {},
   "source": [
    "### Going to try the merge again..."
   ]
  },
  {
   "cell_type": "code",
   "execution_count": 16,
   "id": "a87eeac3",
   "metadata": {
    "scrolled": true
   },
   "outputs": [
    {
     "data": {
      "text/html": [
       "<div>\n",
       "<style scoped>\n",
       "    .dataframe tbody tr th:only-of-type {\n",
       "        vertical-align: middle;\n",
       "    }\n",
       "\n",
       "    .dataframe tbody tr th {\n",
       "        vertical-align: top;\n",
       "    }\n",
       "\n",
       "    .dataframe thead th {\n",
       "        text-align: right;\n",
       "    }\n",
       "</style>\n",
       "<table border=\"1\" class=\"dataframe\">\n",
       "  <thead>\n",
       "    <tr style=\"text-align: right;\">\n",
       "      <th></th>\n",
       "      <th>Category</th>\n",
       "      <th>CASEID</th>\n",
       "      <th>OPENEDDATETIME</th>\n",
       "      <th>SLA_Date</th>\n",
       "      <th>CLOSEDDATETIME</th>\n",
       "      <th>Late (Yes/No)</th>\n",
       "      <th>Dept</th>\n",
       "      <th>REASONNAME</th>\n",
       "      <th>TYPENAME</th>\n",
       "      <th>CaseStatus</th>\n",
       "      <th>SourceID</th>\n",
       "      <th>Council District</th>\n",
       "      <th>XCOORD</th>\n",
       "      <th>YCOORD</th>\n",
       "      <th>Report Starting Date</th>\n",
       "      <th>Report Ending Date</th>\n",
       "      <th>zip</th>\n",
       "      <th>Location</th>\n",
       "      <th>Population</th>\n",
       "      <th>avg_household_income</th>\n",
       "      <th>Lat</th>\n",
       "      <th>Long</th>\n",
       "    </tr>\n",
       "  </thead>\n",
       "  <tbody>\n",
       "    <tr>\n",
       "      <th>0</th>\n",
       "      <td>Graffiti</td>\n",
       "      <td>1010444245</td>\n",
       "      <td>8/15/2012</td>\n",
       "      <td>8/30/2012</td>\n",
       "      <td>NaN</td>\n",
       "      <td>YES</td>\n",
       "      <td>Code Enforcement Services</td>\n",
       "      <td>Graffiti</td>\n",
       "      <td>Graffiti Public Property</td>\n",
       "      <td>Open</td>\n",
       "      <td>Web Portal</td>\n",
       "      <td>5</td>\n",
       "      <td>2125683.0</td>\n",
       "      <td>13695548.0</td>\n",
       "      <td>1/15/2021</td>\n",
       "      <td>1/15/2022</td>\n",
       "      <td>78204</td>\n",
       "      <td>29.404404, -98.505028</td>\n",
       "      <td>11,905</td>\n",
       "      <td>$24,153.00</td>\n",
       "      <td>29.404404</td>\n",
       "      <td>-98.505028</td>\n",
       "    </tr>\n",
       "    <tr>\n",
       "      <th>1</th>\n",
       "      <td>Property Maintenance</td>\n",
       "      <td>1011145884</td>\n",
       "      <td>11/25/2013</td>\n",
       "      <td>2/11/2014</td>\n",
       "      <td>NaN</td>\n",
       "      <td>YES</td>\n",
       "      <td>Code Enforcement Services</td>\n",
       "      <td>Dangerous Premise</td>\n",
       "      <td>Dang Premises/Cut/Clean Only</td>\n",
       "      <td>Open</td>\n",
       "      <td>Internal Services Requests</td>\n",
       "      <td>5</td>\n",
       "      <td>2123632.0</td>\n",
       "      <td>13693158.0</td>\n",
       "      <td>1/15/2021</td>\n",
       "      <td>1/15/2022</td>\n",
       "      <td>78204</td>\n",
       "      <td>29.404404, -98.505028</td>\n",
       "      <td>11,905</td>\n",
       "      <td>$24,153.00</td>\n",
       "      <td>29.404404</td>\n",
       "      <td>-98.505028</td>\n",
       "    </tr>\n",
       "  </tbody>\n",
       "</table>\n",
       "</div>"
      ],
      "text/plain": [
       "               Category      CASEID OPENEDDATETIME   SLA_Date CLOSEDDATETIME  \\\n",
       "0              Graffiti  1010444245      8/15/2012  8/30/2012            NaN   \n",
       "1  Property Maintenance  1011145884     11/25/2013  2/11/2014            NaN   \n",
       "\n",
       "  Late (Yes/No)                       Dept         REASONNAME  \\\n",
       "0           YES  Code Enforcement Services           Graffiti   \n",
       "1           YES  Code Enforcement Services  Dangerous Premise   \n",
       "\n",
       "                       TYPENAME CaseStatus                    SourceID  \\\n",
       "0      Graffiti Public Property       Open                  Web Portal   \n",
       "1  Dang Premises/Cut/Clean Only       Open  Internal Services Requests   \n",
       "\n",
       "   Council District     XCOORD      YCOORD Report Starting Date  \\\n",
       "0                 5  2125683.0  13695548.0            1/15/2021   \n",
       "1                 5  2123632.0  13693158.0            1/15/2021   \n",
       "\n",
       "  Report Ending Date    zip               Location Population  \\\n",
       "0          1/15/2022  78204  29.404404, -98.505028     11,905   \n",
       "1          1/15/2022  78204  29.404404, -98.505028     11,905   \n",
       "\n",
       "  avg_household_income       Lat        Long  \n",
       "0           $24,153.00  29.404404 -98.505028  \n",
       "1           $24,153.00  29.404404 -98.505028  "
      ]
     },
     "execution_count": 16,
     "metadata": {},
     "output_type": "execute_result"
    }
   ],
   "source": [
    "df = service_data.merge(med_incomebyzip, how = 'inner',\n",
    "                  left_on = 'zip', right_on = 'Zip Code').drop(columns = ['Zip Code'])\n",
    "df.head(2)"
   ]
  },
  {
   "cell_type": "markdown",
   "id": "a578329b",
   "metadata": {},
   "source": [
    "### And we have a merged df!"
   ]
  },
  {
   "cell_type": "code",
   "execution_count": null,
   "id": "ec5d33c7",
   "metadata": {},
   "outputs": [],
   "source": []
  },
  {
   "cell_type": "code",
   "execution_count": null,
   "id": "1fb76d22",
   "metadata": {},
   "outputs": [],
   "source": []
  },
  {
   "cell_type": "markdown",
   "id": "93067fa0",
   "metadata": {},
   "source": [
    "# General Info About the Data"
   ]
  },
  {
   "cell_type": "code",
   "execution_count": 17,
   "id": "66bb32fc",
   "metadata": {},
   "outputs": [
    {
     "name": "stdout",
     "output_type": "stream",
     "text": [
      "There are 436576 observations and 22 columns in the data.\n"
     ]
    }
   ],
   "source": [
    "print(f'There are {df.shape[0]} observations and {df.shape[1]} columns in the data.')"
   ]
  },
  {
   "cell_type": "code",
   "execution_count": 18,
   "id": "7c49b519",
   "metadata": {},
   "outputs": [
    {
     "data": {
      "text/html": [
       "<div>\n",
       "<style scoped>\n",
       "    .dataframe tbody tr th:only-of-type {\n",
       "        vertical-align: middle;\n",
       "    }\n",
       "\n",
       "    .dataframe tbody tr th {\n",
       "        vertical-align: top;\n",
       "    }\n",
       "\n",
       "    .dataframe thead th {\n",
       "        text-align: right;\n",
       "    }\n",
       "</style>\n",
       "<table border=\"1\" class=\"dataframe\">\n",
       "  <thead>\n",
       "    <tr style=\"text-align: right;\">\n",
       "      <th></th>\n",
       "      <th>Category</th>\n",
       "      <th>CASEID</th>\n",
       "      <th>OPENEDDATETIME</th>\n",
       "      <th>SLA_Date</th>\n",
       "      <th>CLOSEDDATETIME</th>\n",
       "      <th>Late (Yes/No)</th>\n",
       "      <th>Dept</th>\n",
       "      <th>REASONNAME</th>\n",
       "      <th>TYPENAME</th>\n",
       "      <th>CaseStatus</th>\n",
       "      <th>SourceID</th>\n",
       "      <th>Council District</th>\n",
       "      <th>XCOORD</th>\n",
       "      <th>YCOORD</th>\n",
       "      <th>Report Starting Date</th>\n",
       "      <th>Report Ending Date</th>\n",
       "      <th>zip</th>\n",
       "      <th>Location</th>\n",
       "      <th>Population</th>\n",
       "      <th>avg_household_income</th>\n",
       "      <th>Lat</th>\n",
       "      <th>Long</th>\n",
       "    </tr>\n",
       "  </thead>\n",
       "  <tbody>\n",
       "    <tr>\n",
       "      <th>0</th>\n",
       "      <td>Graffiti</td>\n",
       "      <td>1010444245</td>\n",
       "      <td>8/15/2012</td>\n",
       "      <td>8/30/2012</td>\n",
       "      <td>NaN</td>\n",
       "      <td>YES</td>\n",
       "      <td>Code Enforcement Services</td>\n",
       "      <td>Graffiti</td>\n",
       "      <td>Graffiti Public Property</td>\n",
       "      <td>Open</td>\n",
       "      <td>Web Portal</td>\n",
       "      <td>5</td>\n",
       "      <td>2125683.0</td>\n",
       "      <td>13695548.0</td>\n",
       "      <td>1/15/2021</td>\n",
       "      <td>1/15/2022</td>\n",
       "      <td>78204</td>\n",
       "      <td>29.404404, -98.505028</td>\n",
       "      <td>11,905</td>\n",
       "      <td>$24,153.00</td>\n",
       "      <td>29.404404</td>\n",
       "      <td>-98.505028</td>\n",
       "    </tr>\n",
       "    <tr>\n",
       "      <th>1</th>\n",
       "      <td>Property Maintenance</td>\n",
       "      <td>1011145884</td>\n",
       "      <td>11/25/2013</td>\n",
       "      <td>2/11/2014</td>\n",
       "      <td>NaN</td>\n",
       "      <td>YES</td>\n",
       "      <td>Code Enforcement Services</td>\n",
       "      <td>Dangerous Premise</td>\n",
       "      <td>Dang Premises/Cut/Clean Only</td>\n",
       "      <td>Open</td>\n",
       "      <td>Internal Services Requests</td>\n",
       "      <td>5</td>\n",
       "      <td>2123632.0</td>\n",
       "      <td>13693158.0</td>\n",
       "      <td>1/15/2021</td>\n",
       "      <td>1/15/2022</td>\n",
       "      <td>78204</td>\n",
       "      <td>29.404404, -98.505028</td>\n",
       "      <td>11,905</td>\n",
       "      <td>$24,153.00</td>\n",
       "      <td>29.404404</td>\n",
       "      <td>-98.505028</td>\n",
       "    </tr>\n",
       "  </tbody>\n",
       "</table>\n",
       "</div>"
      ],
      "text/plain": [
       "               Category      CASEID OPENEDDATETIME   SLA_Date CLOSEDDATETIME  \\\n",
       "0              Graffiti  1010444245      8/15/2012  8/30/2012            NaN   \n",
       "1  Property Maintenance  1011145884     11/25/2013  2/11/2014            NaN   \n",
       "\n",
       "  Late (Yes/No)                       Dept         REASONNAME  \\\n",
       "0           YES  Code Enforcement Services           Graffiti   \n",
       "1           YES  Code Enforcement Services  Dangerous Premise   \n",
       "\n",
       "                       TYPENAME CaseStatus                    SourceID  \\\n",
       "0      Graffiti Public Property       Open                  Web Portal   \n",
       "1  Dang Premises/Cut/Clean Only       Open  Internal Services Requests   \n",
       "\n",
       "   Council District     XCOORD      YCOORD Report Starting Date  \\\n",
       "0                 5  2125683.0  13695548.0            1/15/2021   \n",
       "1                 5  2123632.0  13693158.0            1/15/2021   \n",
       "\n",
       "  Report Ending Date    zip               Location Population  \\\n",
       "0          1/15/2022  78204  29.404404, -98.505028     11,905   \n",
       "1          1/15/2022  78204  29.404404, -98.505028     11,905   \n",
       "\n",
       "  avg_household_income       Lat        Long  \n",
       "0           $24,153.00  29.404404 -98.505028  \n",
       "1           $24,153.00  29.404404 -98.505028  "
      ]
     },
     "execution_count": 18,
     "metadata": {},
     "output_type": "execute_result"
    }
   ],
   "source": [
    "df.head(2)"
   ]
  },
  {
   "cell_type": "code",
   "execution_count": 19,
   "id": "a1d35000",
   "metadata": {},
   "outputs": [
    {
     "data": {
      "text/plain": [
       "1/15/2021    436576\n",
       "Name: Report Starting Date, dtype: int64"
      ]
     },
     "execution_count": 19,
     "metadata": {},
     "output_type": "execute_result"
    }
   ],
   "source": [
    "df['Report Starting Date'].value_counts()"
   ]
  },
  {
   "cell_type": "code",
   "execution_count": 20,
   "id": "721aef39",
   "metadata": {},
   "outputs": [
    {
     "data": {
      "text/plain": [
       "1/15/2022    436576\n",
       "Name: Report Ending Date, dtype: int64"
      ]
     },
     "execution_count": 20,
     "metadata": {},
     "output_type": "execute_result"
    }
   ],
   "source": [
    "df['Report Ending Date'].value_counts()"
   ]
  },
  {
   "cell_type": "markdown",
   "id": "1eb9ab1c",
   "metadata": {},
   "source": [
    "### I will go ahead and start removing some of the columns I know I will not be using\n",
    "I will also lowercase the columns names here as well\n",
    "- `TYPENAME` pretty similar to `REASONNAME` and accepts multiple values\n",
    "- `XCOORD` and `YCOORD` unsure of coordinate system used? Does not appear to coorespond with lat/long, dropping for now\n",
    "- `Report Starting Date` and `Report Ending Date` since they have only x1 value/are the same for each report"
   ]
  },
  {
   "cell_type": "code",
   "execution_count": 21,
   "id": "e5fa829f",
   "metadata": {},
   "outputs": [
    {
     "data": {
      "text/plain": [
       "Index(['category', 'caseid', 'openeddatetime', 'sla_date', 'closeddatetime',\n",
       "       'late(yes/no)', 'dept', 'reasonname', 'typename', 'casestatus',\n",
       "       'sourceid', 'councildistrict', 'xcoord', 'ycoord', 'reportstartingdate',\n",
       "       'reportendingdate', 'zip', 'location', 'population',\n",
       "       'avg_household_income', 'lat', 'long'],\n",
       "      dtype='object')"
      ]
     },
     "execution_count": 21,
     "metadata": {},
     "output_type": "execute_result"
    }
   ],
   "source": [
    "df.columns.str.replace(' ', '').str.lower()"
   ]
  },
  {
   "cell_type": "code",
   "execution_count": 22,
   "id": "6501b8ad",
   "metadata": {},
   "outputs": [
    {
     "data": {
      "text/html": [
       "<div>\n",
       "<style scoped>\n",
       "    .dataframe tbody tr th:only-of-type {\n",
       "        vertical-align: middle;\n",
       "    }\n",
       "\n",
       "    .dataframe tbody tr th {\n",
       "        vertical-align: top;\n",
       "    }\n",
       "\n",
       "    .dataframe thead th {\n",
       "        text-align: right;\n",
       "    }\n",
       "</style>\n",
       "<table border=\"1\" class=\"dataframe\">\n",
       "  <thead>\n",
       "    <tr style=\"text-align: right;\">\n",
       "      <th></th>\n",
       "      <th>category</th>\n",
       "      <th>caseid</th>\n",
       "      <th>openeddatetime</th>\n",
       "      <th>sla_date</th>\n",
       "      <th>closeddatetime</th>\n",
       "      <th>late(yes/no)</th>\n",
       "      <th>dept</th>\n",
       "      <th>reasonname</th>\n",
       "      <th>casestatus</th>\n",
       "      <th>sourceid</th>\n",
       "      <th>councildistrict</th>\n",
       "      <th>zip</th>\n",
       "      <th>location</th>\n",
       "      <th>population</th>\n",
       "      <th>avg_household_income</th>\n",
       "      <th>lat</th>\n",
       "      <th>long</th>\n",
       "    </tr>\n",
       "  </thead>\n",
       "  <tbody>\n",
       "    <tr>\n",
       "      <th>0</th>\n",
       "      <td>Graffiti</td>\n",
       "      <td>1010444245</td>\n",
       "      <td>8/15/2012</td>\n",
       "      <td>8/30/2012</td>\n",
       "      <td>NaN</td>\n",
       "      <td>YES</td>\n",
       "      <td>Code Enforcement Services</td>\n",
       "      <td>Graffiti</td>\n",
       "      <td>Open</td>\n",
       "      <td>Web Portal</td>\n",
       "      <td>5</td>\n",
       "      <td>78204</td>\n",
       "      <td>29.404404, -98.505028</td>\n",
       "      <td>11,905</td>\n",
       "      <td>$24,153.00</td>\n",
       "      <td>29.404404</td>\n",
       "      <td>-98.505028</td>\n",
       "    </tr>\n",
       "    <tr>\n",
       "      <th>1</th>\n",
       "      <td>Property Maintenance</td>\n",
       "      <td>1011145884</td>\n",
       "      <td>11/25/2013</td>\n",
       "      <td>2/11/2014</td>\n",
       "      <td>NaN</td>\n",
       "      <td>YES</td>\n",
       "      <td>Code Enforcement Services</td>\n",
       "      <td>Dangerous Premise</td>\n",
       "      <td>Open</td>\n",
       "      <td>Internal Services Requests</td>\n",
       "      <td>5</td>\n",
       "      <td>78204</td>\n",
       "      <td>29.404404, -98.505028</td>\n",
       "      <td>11,905</td>\n",
       "      <td>$24,153.00</td>\n",
       "      <td>29.404404</td>\n",
       "      <td>-98.505028</td>\n",
       "    </tr>\n",
       "  </tbody>\n",
       "</table>\n",
       "</div>"
      ],
      "text/plain": [
       "               category      caseid openeddatetime   sla_date closeddatetime  \\\n",
       "0              Graffiti  1010444245      8/15/2012  8/30/2012            NaN   \n",
       "1  Property Maintenance  1011145884     11/25/2013  2/11/2014            NaN   \n",
       "\n",
       "  late(yes/no)                       dept         reasonname casestatus  \\\n",
       "0          YES  Code Enforcement Services           Graffiti       Open   \n",
       "1          YES  Code Enforcement Services  Dangerous Premise       Open   \n",
       "\n",
       "                     sourceid  councildistrict    zip               location  \\\n",
       "0                  Web Portal                5  78204  29.404404, -98.505028   \n",
       "1  Internal Services Requests                5  78204  29.404404, -98.505028   \n",
       "\n",
       "  population avg_household_income        lat       long  \n",
       "0     11,905           $24,153.00  29.404404 -98.505028  \n",
       "1     11,905           $24,153.00  29.404404 -98.505028  "
      ]
     },
     "execution_count": 22,
     "metadata": {},
     "output_type": "execute_result"
    }
   ],
   "source": [
    "cols_to_drop = ['TYPENAME', 'XCOORD', 'YCOORD', 'Report Starting Date', 'Report Ending Date']\n",
    "\n",
    "df.drop(columns = cols_to_drop, inplace = True)\n",
    "\n",
    "df.columns = df.columns.str.replace(' ', '').str.lower()\n",
    "\n",
    "df.head(2)"
   ]
  },
  {
   "cell_type": "markdown",
   "id": "fa9edcc2",
   "metadata": {},
   "source": [
    "### And while I am it, I will do a little more column name cleanup and make them more readable based on the data dictionary description"
   ]
  },
  {
   "cell_type": "code",
   "execution_count": 23,
   "id": "87e02d81",
   "metadata": {},
   "outputs": [
    {
     "data": {
      "text/html": [
       "<div>\n",
       "<style scoped>\n",
       "    .dataframe tbody tr th:only-of-type {\n",
       "        vertical-align: middle;\n",
       "    }\n",
       "\n",
       "    .dataframe tbody tr th {\n",
       "        vertical-align: top;\n",
       "    }\n",
       "\n",
       "    .dataframe thead th {\n",
       "        text-align: right;\n",
       "    }\n",
       "</style>\n",
       "<table border=\"1\" class=\"dataframe\">\n",
       "  <thead>\n",
       "    <tr style=\"text-align: right;\">\n",
       "      <th></th>\n",
       "      <th>category</th>\n",
       "      <th>case_ref_num</th>\n",
       "      <th>case_open</th>\n",
       "      <th>sla_due</th>\n",
       "      <th>case_close</th>\n",
       "      <th>sla_late</th>\n",
       "      <th>dept</th>\n",
       "      <th>dept_div</th>\n",
       "      <th>case_status</th>\n",
       "      <th>sourceid</th>\n",
       "      <th>council_distr</th>\n",
       "      <th>zip</th>\n",
       "      <th>location</th>\n",
       "      <th>population</th>\n",
       "      <th>avg_inc</th>\n",
       "      <th>lat</th>\n",
       "      <th>long</th>\n",
       "    </tr>\n",
       "  </thead>\n",
       "  <tbody>\n",
       "    <tr>\n",
       "      <th>0</th>\n",
       "      <td>Graffiti</td>\n",
       "      <td>1010444245</td>\n",
       "      <td>8/15/2012</td>\n",
       "      <td>8/30/2012</td>\n",
       "      <td>NaN</td>\n",
       "      <td>YES</td>\n",
       "      <td>Code Enforcement Services</td>\n",
       "      <td>Graffiti</td>\n",
       "      <td>Open</td>\n",
       "      <td>Web Portal</td>\n",
       "      <td>5</td>\n",
       "      <td>78204</td>\n",
       "      <td>29.404404, -98.505028</td>\n",
       "      <td>11,905</td>\n",
       "      <td>$24,153.00</td>\n",
       "      <td>29.404404</td>\n",
       "      <td>-98.505028</td>\n",
       "    </tr>\n",
       "    <tr>\n",
       "      <th>1</th>\n",
       "      <td>Property Maintenance</td>\n",
       "      <td>1011145884</td>\n",
       "      <td>11/25/2013</td>\n",
       "      <td>2/11/2014</td>\n",
       "      <td>NaN</td>\n",
       "      <td>YES</td>\n",
       "      <td>Code Enforcement Services</td>\n",
       "      <td>Dangerous Premise</td>\n",
       "      <td>Open</td>\n",
       "      <td>Internal Services Requests</td>\n",
       "      <td>5</td>\n",
       "      <td>78204</td>\n",
       "      <td>29.404404, -98.505028</td>\n",
       "      <td>11,905</td>\n",
       "      <td>$24,153.00</td>\n",
       "      <td>29.404404</td>\n",
       "      <td>-98.505028</td>\n",
       "    </tr>\n",
       "  </tbody>\n",
       "</table>\n",
       "</div>"
      ],
      "text/plain": [
       "               category  case_ref_num   case_open    sla_due case_close  \\\n",
       "0              Graffiti    1010444245   8/15/2012  8/30/2012        NaN   \n",
       "1  Property Maintenance    1011145884  11/25/2013  2/11/2014        NaN   \n",
       "\n",
       "  sla_late                       dept           dept_div case_status  \\\n",
       "0      YES  Code Enforcement Services           Graffiti        Open   \n",
       "1      YES  Code Enforcement Services  Dangerous Premise        Open   \n",
       "\n",
       "                     sourceid  council_distr    zip               location  \\\n",
       "0                  Web Portal              5  78204  29.404404, -98.505028   \n",
       "1  Internal Services Requests              5  78204  29.404404, -98.505028   \n",
       "\n",
       "  population     avg_inc        lat       long  \n",
       "0     11,905  $24,153.00  29.404404 -98.505028  \n",
       "1     11,905  $24,153.00  29.404404 -98.505028  "
      ]
     },
     "execution_count": 23,
     "metadata": {},
     "output_type": "execute_result"
    }
   ],
   "source": [
    "cols_to_rename = {'caseid':'case_ref_num', \n",
    "'openeddatetime':'case_open', \n",
    "'sla_date':'sla_due', \n",
    "'closeddatetime':'case_close', \n",
    "'late(yes/no)':'sla_late', \n",
    "'reasonname':'dept_div',  \n",
    "'casestatus':'case_status', \n",
    "'councildistrict':'council_distr', \n",
    "'avg_household_income':'avg_inc'}\n",
    "\n",
    "df.rename(columns = cols_to_rename, inplace = True)\n",
    "df.head(2)"
   ]
  },
  {
   "cell_type": "markdown",
   "id": "b0ae6a49",
   "metadata": {},
   "source": [
    "### Looking at dtypes for each column..."
   ]
  },
  {
   "cell_type": "code",
   "execution_count": 24,
   "id": "a482f3a5",
   "metadata": {},
   "outputs": [
    {
     "name": "stdout",
     "output_type": "stream",
     "text": [
      "Object List:\n",
      "['category', 'case_open', 'sla_due', 'case_close', 'sla_late', 'dept', 'dept_div', 'case_status', 'sourceid', 'zip', 'location', 'population', 'avg_inc']\n",
      "\n",
      "Numeric List:\n",
      "['case_ref_num', 'council_distr', 'lat', 'long']\n",
      "\n",
      "Bool List:\n",
      "[]\n"
     ]
    }
   ],
   "source": [
    "# creating empty lists to be appended in for loop\n",
    "obj_list = []\n",
    "num_list = []\n",
    "bool_list = []\n",
    "\n",
    "# for loop to append df columns to corresponding lists\n",
    "for col in df.columns:\n",
    "    if df[col].dtype == 'O':\n",
    "        obj_list.append(col)\n",
    "    elif df[col].dtype == 'bool':\n",
    "        bool_list.append(col)\n",
    "    else:\n",
    "        num_list.append(col)\n",
    "        \n",
    "print(f'Object List:\\n{obj_list}\\n\\nNumeric List:\\n{num_list}\\n\\nBool List:\\n{bool_list}')"
   ]
  },
  {
   "cell_type": "markdown",
   "id": "d8d92750",
   "metadata": {},
   "source": [
    "### Columns I will need to update `dtype` for:\n",
    "- `case_ref_num` from numeric to object\n",
    "- `case_open` from object to datetype \n",
    "- `sla_due` from object to datetype \n",
    "- `case_close` from object to datetype \n",
    "- `council_distr` from number to object\n",
    "- `population` from object to integer\n",
    "    - remove `,` \n",
    "- `avg_inc`\n",
    "    - first need to remove `$` and `,`\n",
    "    - from object to float\n",
    "    \n",
    "    \n",
    " Also, `location` column is redudant, will drop that column"
   ]
  },
  {
   "cell_type": "code",
   "execution_count": 26,
   "id": "19eb7359",
   "metadata": {
    "scrolled": true
   },
   "outputs": [],
   "source": [
    "# to object\n",
    "df[['case_ref_num', 'council_distr']] = df[['case_ref_num', 'council_distr']].astype('O')\n",
    "\n",
    "# # to datetime\n",
    "# pd.to_datetime(df[['case_open', 'sla_due', 'case_close']], format = '%Y:%m:%d')"
   ]
  },
  {
   "cell_type": "markdown",
   "id": "f865a5b8",
   "metadata": {},
   "source": [
    "### I think I am getting this error because of null values\n",
    "I am going to drop null values and then come back to column dtype cleanup"
   ]
  },
  {
   "cell_type": "code",
   "execution_count": 27,
   "id": "e7ffd03d",
   "metadata": {},
   "outputs": [
    {
     "data": {
      "text/plain": [
       "case_open         0\n",
       "sla_due        2112\n",
       "case_close    32684\n",
       "dtype: int64"
      ]
     },
     "execution_count": 27,
     "metadata": {},
     "output_type": "execute_result"
    }
   ],
   "source": [
    "df[['case_open', 'sla_due', 'case_close']].isna().sum()"
   ]
  },
  {
   "cell_type": "markdown",
   "id": "d9d49ebe",
   "metadata": {},
   "source": [
    "### Let's take a look at null values...."
   ]
  },
  {
   "cell_type": "code",
   "execution_count": 28,
   "id": "58db7487",
   "metadata": {},
   "outputs": [
    {
     "data": {
      "text/html": [
       "<div>\n",
       "<style scoped>\n",
       "    .dataframe tbody tr th:only-of-type {\n",
       "        vertical-align: middle;\n",
       "    }\n",
       "\n",
       "    .dataframe tbody tr th {\n",
       "        vertical-align: top;\n",
       "    }\n",
       "\n",
       "    .dataframe thead th {\n",
       "        text-align: right;\n",
       "    }\n",
       "</style>\n",
       "<table border=\"1\" class=\"dataframe\">\n",
       "  <thead>\n",
       "    <tr style=\"text-align: right;\">\n",
       "      <th></th>\n",
       "      <th>0</th>\n",
       "      <th>1</th>\n",
       "    </tr>\n",
       "  </thead>\n",
       "  <tbody>\n",
       "    <tr>\n",
       "      <th>case_close</th>\n",
       "      <td>7.49</td>\n",
       "      <td>32684</td>\n",
       "    </tr>\n",
       "    <tr>\n",
       "      <th>dept</th>\n",
       "      <td>3.36</td>\n",
       "      <td>14683</td>\n",
       "    </tr>\n",
       "    <tr>\n",
       "      <th>sla_due</th>\n",
       "      <td>0.48</td>\n",
       "      <td>2112</td>\n",
       "    </tr>\n",
       "    <tr>\n",
       "      <th>category</th>\n",
       "      <td>0.00</td>\n",
       "      <td>0</td>\n",
       "    </tr>\n",
       "  </tbody>\n",
       "</table>\n",
       "</div>"
      ],
      "text/plain": [
       "               0      1\n",
       "case_close  7.49  32684\n",
       "dept        3.36  14683\n",
       "sla_due     0.48   2112\n",
       "category    0.00      0"
      ]
     },
     "execution_count": 28,
     "metadata": {},
     "output_type": "execute_result"
    }
   ],
   "source": [
    "nulls = pd.concat([round(df.isna().sum().sort_values(ascending = False) / df.shape[0] * 100, 2), \\\n",
    "                     df.isna().sum().sort_values(ascending = False)], axis = 1).head(4)\n",
    "nulls"
   ]
  },
  {
   "cell_type": "markdown",
   "id": "48d3efc1",
   "metadata": {},
   "source": [
    "#### The null values are a very small percentage of the total data and I don't think I will lose a signficant amount info by dropping them"
   ]
  },
  {
   "cell_type": "code",
   "execution_count": null,
   "id": "9e78504d",
   "metadata": {},
   "outputs": [],
   "source": [
    "df.dropna(inplace = True)"
   ]
  },
  {
   "cell_type": "code",
   "execution_count": null,
   "id": "39905e13",
   "metadata": {},
   "outputs": [],
   "source": [
    "# verying there are no null values\n",
    "df.isna().sum().sum()"
   ]
  },
  {
   "cell_type": "markdown",
   "id": "3b226309",
   "metadata": {},
   "source": [
    "#### Going to try the `datetime` dtype conversion again..."
   ]
  },
  {
   "cell_type": "code",
   "execution_count": 29,
   "id": "a7b23336",
   "metadata": {
    "scrolled": true
   },
   "outputs": [
    {
     "ename": "ValueError",
     "evalue": "to assemble mappings requires at least that [year, month, day] be specified: [day,month,year] is missing",
     "output_type": "error",
     "traceback": [
      "\u001b[0;31m---------------------------------------------------------------------------\u001b[0m",
      "\u001b[0;31mValueError\u001b[0m                                Traceback (most recent call last)",
      "\u001b[0;32m<ipython-input-29-7a6d929d226f>\u001b[0m in \u001b[0;36m<module>\u001b[0;34m\u001b[0m\n\u001b[1;32m      1\u001b[0m \u001b[0;31m# to datetime\u001b[0m\u001b[0;34m\u001b[0m\u001b[0;34m\u001b[0m\u001b[0;34m\u001b[0m\u001b[0m\n\u001b[0;32m----> 2\u001b[0;31m \u001b[0mpd\u001b[0m\u001b[0;34m.\u001b[0m\u001b[0mto_datetime\u001b[0m\u001b[0;34m(\u001b[0m\u001b[0mdf\u001b[0m\u001b[0;34m[\u001b[0m\u001b[0;34m[\u001b[0m\u001b[0;34m'case_open'\u001b[0m\u001b[0;34m,\u001b[0m \u001b[0;34m'sla_due'\u001b[0m\u001b[0;34m,\u001b[0m \u001b[0;34m'case_close'\u001b[0m\u001b[0;34m]\u001b[0m\u001b[0;34m]\u001b[0m\u001b[0;34m,\u001b[0m \u001b[0mformat\u001b[0m \u001b[0;34m=\u001b[0m \u001b[0;34m'%Y:%m:%d'\u001b[0m\u001b[0;34m)\u001b[0m\u001b[0;34m\u001b[0m\u001b[0;34m\u001b[0m\u001b[0m\n\u001b[0m",
      "\u001b[0;32m/usr/local/anaconda3/lib/python3.8/site-packages/pandas/core/tools/datetimes.py\u001b[0m in \u001b[0;36mto_datetime\u001b[0;34m(arg, errors, dayfirst, yearfirst, utc, format, exact, unit, infer_datetime_format, origin, cache)\u001b[0m\n\u001b[1;32m    806\u001b[0m             \u001b[0mresult\u001b[0m \u001b[0;34m=\u001b[0m \u001b[0marg\u001b[0m\u001b[0;34m.\u001b[0m\u001b[0m_constructor\u001b[0m\u001b[0;34m(\u001b[0m\u001b[0mvalues\u001b[0m\u001b[0;34m,\u001b[0m \u001b[0mindex\u001b[0m\u001b[0;34m=\u001b[0m\u001b[0marg\u001b[0m\u001b[0;34m.\u001b[0m\u001b[0mindex\u001b[0m\u001b[0;34m,\u001b[0m \u001b[0mname\u001b[0m\u001b[0;34m=\u001b[0m\u001b[0marg\u001b[0m\u001b[0;34m.\u001b[0m\u001b[0mname\u001b[0m\u001b[0;34m)\u001b[0m\u001b[0;34m\u001b[0m\u001b[0;34m\u001b[0m\u001b[0m\n\u001b[1;32m    807\u001b[0m     \u001b[0;32melif\u001b[0m \u001b[0misinstance\u001b[0m\u001b[0;34m(\u001b[0m\u001b[0marg\u001b[0m\u001b[0;34m,\u001b[0m \u001b[0;34m(\u001b[0m\u001b[0mABCDataFrame\u001b[0m\u001b[0;34m,\u001b[0m \u001b[0mabc\u001b[0m\u001b[0;34m.\u001b[0m\u001b[0mMutableMapping\u001b[0m\u001b[0;34m)\u001b[0m\u001b[0;34m)\u001b[0m\u001b[0;34m:\u001b[0m\u001b[0;34m\u001b[0m\u001b[0;34m\u001b[0m\u001b[0m\n\u001b[0;32m--> 808\u001b[0;31m         \u001b[0mresult\u001b[0m \u001b[0;34m=\u001b[0m \u001b[0m_assemble_from_unit_mappings\u001b[0m\u001b[0;34m(\u001b[0m\u001b[0marg\u001b[0m\u001b[0;34m,\u001b[0m \u001b[0merrors\u001b[0m\u001b[0;34m,\u001b[0m \u001b[0mtz\u001b[0m\u001b[0;34m)\u001b[0m\u001b[0;34m\u001b[0m\u001b[0;34m\u001b[0m\u001b[0m\n\u001b[0m\u001b[1;32m    809\u001b[0m     \u001b[0;32melif\u001b[0m \u001b[0misinstance\u001b[0m\u001b[0;34m(\u001b[0m\u001b[0marg\u001b[0m\u001b[0;34m,\u001b[0m \u001b[0mIndex\u001b[0m\u001b[0;34m)\u001b[0m\u001b[0;34m:\u001b[0m\u001b[0;34m\u001b[0m\u001b[0;34m\u001b[0m\u001b[0m\n\u001b[1;32m    810\u001b[0m         \u001b[0mcache_array\u001b[0m \u001b[0;34m=\u001b[0m \u001b[0m_maybe_cache\u001b[0m\u001b[0;34m(\u001b[0m\u001b[0marg\u001b[0m\u001b[0;34m,\u001b[0m \u001b[0mformat\u001b[0m\u001b[0;34m,\u001b[0m \u001b[0mcache\u001b[0m\u001b[0;34m,\u001b[0m \u001b[0mconvert_listlike\u001b[0m\u001b[0;34m)\u001b[0m\u001b[0;34m\u001b[0m\u001b[0;34m\u001b[0m\u001b[0m\n",
      "\u001b[0;32m/usr/local/anaconda3/lib/python3.8/site-packages/pandas/core/tools/datetimes.py\u001b[0m in \u001b[0;36m_assemble_from_unit_mappings\u001b[0;34m(arg, errors, tz)\u001b[0m\n\u001b[1;32m    905\u001b[0m     \u001b[0;32mif\u001b[0m \u001b[0mlen\u001b[0m\u001b[0;34m(\u001b[0m\u001b[0mreq\u001b[0m\u001b[0;34m)\u001b[0m\u001b[0;34m:\u001b[0m\u001b[0;34m\u001b[0m\u001b[0;34m\u001b[0m\u001b[0m\n\u001b[1;32m    906\u001b[0m         \u001b[0m_required\u001b[0m \u001b[0;34m=\u001b[0m \u001b[0;34m\",\"\u001b[0m\u001b[0;34m.\u001b[0m\u001b[0mjoin\u001b[0m\u001b[0;34m(\u001b[0m\u001b[0mreq\u001b[0m\u001b[0;34m)\u001b[0m\u001b[0;34m\u001b[0m\u001b[0;34m\u001b[0m\u001b[0m\n\u001b[0;32m--> 907\u001b[0;31m         raise ValueError(\n\u001b[0m\u001b[1;32m    908\u001b[0m             \u001b[0;34m\"to assemble mappings requires at least that \"\u001b[0m\u001b[0;34m\u001b[0m\u001b[0;34m\u001b[0m\u001b[0m\n\u001b[1;32m    909\u001b[0m             \u001b[0;34mf\"[year, month, day] be specified: [{_required}] is missing\"\u001b[0m\u001b[0;34m\u001b[0m\u001b[0;34m\u001b[0m\u001b[0m\n",
      "\u001b[0;31mValueError\u001b[0m: to assemble mappings requires at least that [year, month, day] be specified: [day,month,year] is missing"
     ]
    }
   ],
   "source": [
    "# to datetime\n",
    "# pd.to_datetime(df[['case_open', 'sla_due', 'case_close']], format = '%Y:%m:%d')"
   ]
  },
  {
   "cell_type": "markdown",
   "id": "4782d78b",
   "metadata": {},
   "source": [
    "#### Still getting an error, but code works without `format` and doing each column individually. "
   ]
  },
  {
   "cell_type": "code",
   "execution_count": 30,
   "id": "62f9a0f0",
   "metadata": {
    "scrolled": false
   },
   "outputs": [
    {
     "name": "stderr",
     "output_type": "stream",
     "text": [
      "<ipython-input-30-401bafd4feed>:10: FutureWarning: The default value of regex will change from True to False in a future version. In addition, single character regular expressions will*not* be treated as literal strings when regex=True.\n",
      "  df.avg_inc = df.avg_inc.str.replace('$', '').str.replace(',', '').astype(float)\n"
     ]
    }
   ],
   "source": [
    "# to datetime\n",
    "df.sla_due = pd.to_datetime(df.sla_due)\n",
    "df.case_open = pd.to_datetime(df.case_open)\n",
    "df.case_close = pd.to_datetime(df.case_close)\n",
    "\n",
    "# population from object to integer\n",
    "df.population = df.population.str.replace(',', '').astype(int)\n",
    "\n",
    "# to float\n",
    "df.avg_inc = df.avg_inc.str.replace('$', '').str.replace(',', '').astype(float)"
   ]
  },
  {
   "cell_type": "code",
   "execution_count": 31,
   "id": "22c259a0",
   "metadata": {},
   "outputs": [],
   "source": [
    "# dropping location column\n",
    "df.drop(columns =  ['location'], inplace = True)"
   ]
  },
  {
   "cell_type": "markdown",
   "id": "bcd0e2ff",
   "metadata": {},
   "source": [
    "### For the last cleanup step I am feature engineering a new column `days_to_close`  \n",
    "- This will be how many days it took for the case to close\n",
    "- Derived from `case_closed` - `case_open`"
   ]
  },
  {
   "cell_type": "code",
   "execution_count": 32,
   "id": "6b1d6369",
   "metadata": {
    "scrolled": true
   },
   "outputs": [
    {
     "ename": "ValueError",
     "evalue": "invalid literal for int() with base 10: 'NaT'",
     "output_type": "error",
     "traceback": [
      "\u001b[0;31m---------------------------------------------------------------------------\u001b[0m",
      "\u001b[0;31mValueError\u001b[0m                                Traceback (most recent call last)",
      "\u001b[0;32m<ipython-input-32-f9b0b697d23b>\u001b[0m in \u001b[0;36m<module>\u001b[0;34m\u001b[0m\n\u001b[1;32m      2\u001b[0m \u001b[0;31m# removing non-numeric endings\u001b[0m\u001b[0;34m\u001b[0m\u001b[0;34m\u001b[0m\u001b[0;34m\u001b[0m\u001b[0m\n\u001b[1;32m      3\u001b[0m \u001b[0;31m# changing dtype to integer\u001b[0m\u001b[0;34m\u001b[0m\u001b[0;34m\u001b[0m\u001b[0;34m\u001b[0m\u001b[0m\n\u001b[0;32m----> 4\u001b[0;31m \u001b[0mdf\u001b[0m\u001b[0;34m[\u001b[0m\u001b[0;34m'days_to_close'\u001b[0m\u001b[0;34m]\u001b[0m \u001b[0;34m=\u001b[0m \u001b[0;34m(\u001b[0m\u001b[0mdf\u001b[0m\u001b[0;34m.\u001b[0m\u001b[0mcase_close\u001b[0m \u001b[0;34m-\u001b[0m \u001b[0mdf\u001b[0m\u001b[0;34m.\u001b[0m\u001b[0mcase_open\u001b[0m\u001b[0;34m)\u001b[0m\u001b[0;34m.\u001b[0m\u001b[0mastype\u001b[0m\u001b[0;34m(\u001b[0m\u001b[0;34m'str'\u001b[0m\u001b[0;34m)\u001b[0m\u001b[0;34m.\u001b[0m\u001b[0mstr\u001b[0m\u001b[0;34m.\u001b[0m\u001b[0mreplace\u001b[0m\u001b[0;34m(\u001b[0m\u001b[0;34m' days'\u001b[0m\u001b[0;34m,\u001b[0m \u001b[0;34m''\u001b[0m\u001b[0;34m)\u001b[0m\u001b[0;34m.\u001b[0m\u001b[0mastype\u001b[0m\u001b[0;34m(\u001b[0m\u001b[0mint\u001b[0m\u001b[0;34m)\u001b[0m\u001b[0;34m\u001b[0m\u001b[0;34m\u001b[0m\u001b[0m\n\u001b[0m",
      "\u001b[0;32m/usr/local/anaconda3/lib/python3.8/site-packages/pandas/core/generic.py\u001b[0m in \u001b[0;36mastype\u001b[0;34m(self, dtype, copy, errors)\u001b[0m\n\u001b[1;32m   5875\u001b[0m         \u001b[0;32melse\u001b[0m\u001b[0;34m:\u001b[0m\u001b[0;34m\u001b[0m\u001b[0;34m\u001b[0m\u001b[0m\n\u001b[1;32m   5876\u001b[0m             \u001b[0;31m# else, only a single dtype is given\u001b[0m\u001b[0;34m\u001b[0m\u001b[0;34m\u001b[0m\u001b[0;34m\u001b[0m\u001b[0m\n\u001b[0;32m-> 5877\u001b[0;31m             \u001b[0mnew_data\u001b[0m \u001b[0;34m=\u001b[0m \u001b[0mself\u001b[0m\u001b[0;34m.\u001b[0m\u001b[0m_mgr\u001b[0m\u001b[0;34m.\u001b[0m\u001b[0mastype\u001b[0m\u001b[0;34m(\u001b[0m\u001b[0mdtype\u001b[0m\u001b[0;34m=\u001b[0m\u001b[0mdtype\u001b[0m\u001b[0;34m,\u001b[0m \u001b[0mcopy\u001b[0m\u001b[0;34m=\u001b[0m\u001b[0mcopy\u001b[0m\u001b[0;34m,\u001b[0m \u001b[0merrors\u001b[0m\u001b[0;34m=\u001b[0m\u001b[0merrors\u001b[0m\u001b[0;34m)\u001b[0m\u001b[0;34m\u001b[0m\u001b[0;34m\u001b[0m\u001b[0m\n\u001b[0m\u001b[1;32m   5878\u001b[0m             \u001b[0;32mreturn\u001b[0m \u001b[0mself\u001b[0m\u001b[0;34m.\u001b[0m\u001b[0m_constructor\u001b[0m\u001b[0;34m(\u001b[0m\u001b[0mnew_data\u001b[0m\u001b[0;34m)\u001b[0m\u001b[0;34m.\u001b[0m\u001b[0m__finalize__\u001b[0m\u001b[0;34m(\u001b[0m\u001b[0mself\u001b[0m\u001b[0;34m,\u001b[0m \u001b[0mmethod\u001b[0m\u001b[0;34m=\u001b[0m\u001b[0;34m\"astype\"\u001b[0m\u001b[0;34m)\u001b[0m\u001b[0;34m\u001b[0m\u001b[0;34m\u001b[0m\u001b[0m\n\u001b[1;32m   5879\u001b[0m \u001b[0;34m\u001b[0m\u001b[0m\n",
      "\u001b[0;32m/usr/local/anaconda3/lib/python3.8/site-packages/pandas/core/internals/managers.py\u001b[0m in \u001b[0;36mastype\u001b[0;34m(self, dtype, copy, errors)\u001b[0m\n\u001b[1;32m    629\u001b[0m         \u001b[0mself\u001b[0m\u001b[0;34m,\u001b[0m \u001b[0mdtype\u001b[0m\u001b[0;34m,\u001b[0m \u001b[0mcopy\u001b[0m\u001b[0;34m:\u001b[0m \u001b[0mbool\u001b[0m \u001b[0;34m=\u001b[0m \u001b[0;32mFalse\u001b[0m\u001b[0;34m,\u001b[0m \u001b[0merrors\u001b[0m\u001b[0;34m:\u001b[0m \u001b[0mstr\u001b[0m \u001b[0;34m=\u001b[0m \u001b[0;34m\"raise\"\u001b[0m\u001b[0;34m\u001b[0m\u001b[0;34m\u001b[0m\u001b[0m\n\u001b[1;32m    630\u001b[0m     ) -> \"BlockManager\":\n\u001b[0;32m--> 631\u001b[0;31m         \u001b[0;32mreturn\u001b[0m \u001b[0mself\u001b[0m\u001b[0;34m.\u001b[0m\u001b[0mapply\u001b[0m\u001b[0;34m(\u001b[0m\u001b[0;34m\"astype\"\u001b[0m\u001b[0;34m,\u001b[0m \u001b[0mdtype\u001b[0m\u001b[0;34m=\u001b[0m\u001b[0mdtype\u001b[0m\u001b[0;34m,\u001b[0m \u001b[0mcopy\u001b[0m\u001b[0;34m=\u001b[0m\u001b[0mcopy\u001b[0m\u001b[0;34m,\u001b[0m \u001b[0merrors\u001b[0m\u001b[0;34m=\u001b[0m\u001b[0merrors\u001b[0m\u001b[0;34m)\u001b[0m\u001b[0;34m\u001b[0m\u001b[0;34m\u001b[0m\u001b[0m\n\u001b[0m\u001b[1;32m    632\u001b[0m \u001b[0;34m\u001b[0m\u001b[0m\n\u001b[1;32m    633\u001b[0m     def convert(\n",
      "\u001b[0;32m/usr/local/anaconda3/lib/python3.8/site-packages/pandas/core/internals/managers.py\u001b[0m in \u001b[0;36mapply\u001b[0;34m(self, f, align_keys, ignore_failures, **kwargs)\u001b[0m\n\u001b[1;32m    425\u001b[0m                     \u001b[0mapplied\u001b[0m \u001b[0;34m=\u001b[0m \u001b[0mb\u001b[0m\u001b[0;34m.\u001b[0m\u001b[0mapply\u001b[0m\u001b[0;34m(\u001b[0m\u001b[0mf\u001b[0m\u001b[0;34m,\u001b[0m \u001b[0;34m**\u001b[0m\u001b[0mkwargs\u001b[0m\u001b[0;34m)\u001b[0m\u001b[0;34m\u001b[0m\u001b[0;34m\u001b[0m\u001b[0m\n\u001b[1;32m    426\u001b[0m                 \u001b[0;32melse\u001b[0m\u001b[0;34m:\u001b[0m\u001b[0;34m\u001b[0m\u001b[0;34m\u001b[0m\u001b[0m\n\u001b[0;32m--> 427\u001b[0;31m                     \u001b[0mapplied\u001b[0m \u001b[0;34m=\u001b[0m \u001b[0mgetattr\u001b[0m\u001b[0;34m(\u001b[0m\u001b[0mb\u001b[0m\u001b[0;34m,\u001b[0m \u001b[0mf\u001b[0m\u001b[0;34m)\u001b[0m\u001b[0;34m(\u001b[0m\u001b[0;34m**\u001b[0m\u001b[0mkwargs\u001b[0m\u001b[0;34m)\u001b[0m\u001b[0;34m\u001b[0m\u001b[0;34m\u001b[0m\u001b[0m\n\u001b[0m\u001b[1;32m    428\u001b[0m             \u001b[0;32mexcept\u001b[0m \u001b[0;34m(\u001b[0m\u001b[0mTypeError\u001b[0m\u001b[0;34m,\u001b[0m \u001b[0mNotImplementedError\u001b[0m\u001b[0;34m)\u001b[0m\u001b[0;34m:\u001b[0m\u001b[0;34m\u001b[0m\u001b[0;34m\u001b[0m\u001b[0m\n\u001b[1;32m    429\u001b[0m                 \u001b[0;32mif\u001b[0m \u001b[0;32mnot\u001b[0m \u001b[0mignore_failures\u001b[0m\u001b[0;34m:\u001b[0m\u001b[0;34m\u001b[0m\u001b[0;34m\u001b[0m\u001b[0m\n",
      "\u001b[0;32m/usr/local/anaconda3/lib/python3.8/site-packages/pandas/core/internals/blocks.py\u001b[0m in \u001b[0;36mastype\u001b[0;34m(self, dtype, copy, errors)\u001b[0m\n\u001b[1;32m    671\u001b[0m             \u001b[0mvals1d\u001b[0m \u001b[0;34m=\u001b[0m \u001b[0mvalues\u001b[0m\u001b[0;34m.\u001b[0m\u001b[0mravel\u001b[0m\u001b[0;34m(\u001b[0m\u001b[0;34m)\u001b[0m\u001b[0;34m\u001b[0m\u001b[0;34m\u001b[0m\u001b[0m\n\u001b[1;32m    672\u001b[0m             \u001b[0;32mtry\u001b[0m\u001b[0;34m:\u001b[0m\u001b[0;34m\u001b[0m\u001b[0;34m\u001b[0m\u001b[0m\n\u001b[0;32m--> 673\u001b[0;31m                 \u001b[0mvalues\u001b[0m \u001b[0;34m=\u001b[0m \u001b[0mastype_nansafe\u001b[0m\u001b[0;34m(\u001b[0m\u001b[0mvals1d\u001b[0m\u001b[0;34m,\u001b[0m \u001b[0mdtype\u001b[0m\u001b[0;34m,\u001b[0m \u001b[0mcopy\u001b[0m\u001b[0;34m=\u001b[0m\u001b[0;32mTrue\u001b[0m\u001b[0;34m)\u001b[0m\u001b[0;34m\u001b[0m\u001b[0;34m\u001b[0m\u001b[0m\n\u001b[0m\u001b[1;32m    674\u001b[0m             \u001b[0;32mexcept\u001b[0m \u001b[0;34m(\u001b[0m\u001b[0mValueError\u001b[0m\u001b[0;34m,\u001b[0m \u001b[0mTypeError\u001b[0m\u001b[0;34m)\u001b[0m\u001b[0;34m:\u001b[0m\u001b[0;34m\u001b[0m\u001b[0;34m\u001b[0m\u001b[0m\n\u001b[1;32m    675\u001b[0m                 \u001b[0;31m# e.g. astype_nansafe can fail on object-dtype of strings\u001b[0m\u001b[0;34m\u001b[0m\u001b[0;34m\u001b[0m\u001b[0;34m\u001b[0m\u001b[0m\n",
      "\u001b[0;32m/usr/local/anaconda3/lib/python3.8/site-packages/pandas/core/dtypes/cast.py\u001b[0m in \u001b[0;36mastype_nansafe\u001b[0;34m(arr, dtype, copy, skipna)\u001b[0m\n\u001b[1;32m   1072\u001b[0m         \u001b[0;31m# work around NumPy brokenness, #1987\u001b[0m\u001b[0;34m\u001b[0m\u001b[0;34m\u001b[0m\u001b[0;34m\u001b[0m\u001b[0m\n\u001b[1;32m   1073\u001b[0m         \u001b[0;32mif\u001b[0m \u001b[0mnp\u001b[0m\u001b[0;34m.\u001b[0m\u001b[0missubdtype\u001b[0m\u001b[0;34m(\u001b[0m\u001b[0mdtype\u001b[0m\u001b[0;34m.\u001b[0m\u001b[0mtype\u001b[0m\u001b[0;34m,\u001b[0m \u001b[0mnp\u001b[0m\u001b[0;34m.\u001b[0m\u001b[0minteger\u001b[0m\u001b[0;34m)\u001b[0m\u001b[0;34m:\u001b[0m\u001b[0;34m\u001b[0m\u001b[0;34m\u001b[0m\u001b[0m\n\u001b[0;32m-> 1074\u001b[0;31m             \u001b[0;32mreturn\u001b[0m \u001b[0mlib\u001b[0m\u001b[0;34m.\u001b[0m\u001b[0mastype_intsafe\u001b[0m\u001b[0;34m(\u001b[0m\u001b[0marr\u001b[0m\u001b[0;34m.\u001b[0m\u001b[0mravel\u001b[0m\u001b[0;34m(\u001b[0m\u001b[0;34m)\u001b[0m\u001b[0;34m,\u001b[0m \u001b[0mdtype\u001b[0m\u001b[0;34m)\u001b[0m\u001b[0;34m.\u001b[0m\u001b[0mreshape\u001b[0m\u001b[0;34m(\u001b[0m\u001b[0marr\u001b[0m\u001b[0;34m.\u001b[0m\u001b[0mshape\u001b[0m\u001b[0;34m)\u001b[0m\u001b[0;34m\u001b[0m\u001b[0;34m\u001b[0m\u001b[0m\n\u001b[0m\u001b[1;32m   1075\u001b[0m \u001b[0;34m\u001b[0m\u001b[0m\n\u001b[1;32m   1076\u001b[0m         \u001b[0;31m# if we have a datetime/timedelta array of objects\u001b[0m\u001b[0;34m\u001b[0m\u001b[0;34m\u001b[0m\u001b[0;34m\u001b[0m\u001b[0m\n",
      "\u001b[0;32mpandas/_libs/lib.pyx\u001b[0m in \u001b[0;36mpandas._libs.lib.astype_intsafe\u001b[0;34m()\u001b[0m\n",
      "\u001b[0;31mValueError\u001b[0m: invalid literal for int() with base 10: 'NaT'"
     ]
    }
   ],
   "source": [
    "# converting datetime to string\n",
    "# removing non-numeric endings\n",
    "# changing dtype to integer\n",
    "df['days_to_close'] = (df.case_close - df.case_open).astype('str').str.replace(' days', '').astype(int)"
   ]
  },
  {
   "cell_type": "markdown",
   "id": "e37c32b2",
   "metadata": {},
   "source": [
    "## Now to look at the columns and dtypes to verify cleanup and ready for explore..."
   ]
  },
  {
   "cell_type": "code",
   "execution_count": null,
   "id": "c5133122",
   "metadata": {},
   "outputs": [],
   "source": [
    "df.head(2)"
   ]
  },
  {
   "cell_type": "markdown",
   "id": "9811afc4",
   "metadata": {},
   "source": [
    "### I want to reset the `index` to get a continuous value. After dropping some data the numbers skip around..."
   ]
  },
  {
   "cell_type": "code",
   "execution_count": null,
   "id": "3880df7b",
   "metadata": {
    "scrolled": true
   },
   "outputs": [],
   "source": [
    "# df.reset_index(inplace = True)\n",
    "\n",
    "df = df.rename(columns = {'index':'index_'}).drop(columns = ['level_0', 'index_'])"
   ]
  },
  {
   "cell_type": "code",
   "execution_count": null,
   "id": "ef797403",
   "metadata": {},
   "outputs": [],
   "source": [
    "df.head(2)"
   ]
  },
  {
   "cell_type": "code",
   "execution_count": null,
   "id": "43bc972a",
   "metadata": {},
   "outputs": [],
   "source": [
    "# creating empty lists to be appended in for loop\n",
    "obj_list = []\n",
    "int_list = []\n",
    "float_list = []\n",
    "bool_list = []\n",
    "date_list = []\n",
    "\n",
    "# for loop to append df columns to corresponding lists\n",
    "for col in df.columns:\n",
    "    if df[col].nunique() == 2:\n",
    "        bool_list.append(col)\n",
    "        \n",
    "    elif df[col].dtype == 'O':\n",
    "        obj_list.append(col)\n",
    "        \n",
    "    elif df[col].dtype == 'int':\n",
    "        int_list.append(col)\n",
    "\n",
    "    elif df[col].dtype == 'float':\n",
    "        float_list.append(col)\n",
    "    \n",
    "    else:\n",
    "        date_list.append(col)\n",
    "        \n",
    "print(f'Object List:\\n{obj_list}\\n\\nInteger List:\\n{int_list}\\n\\nBool List:\\n{bool_list}\\n\\nFloat List:\\n{float_list}\\n\\nDates List:\\n{date_list}')"
   ]
  },
  {
   "cell_type": "markdown",
   "id": "a393cf2b",
   "metadata": {},
   "source": [
    "### I can also drop the `case_status` column since I removed all the null values for `case_close` \n",
    "- the only cases I will be looking at are the ones who have been closed as of the data report date"
   ]
  },
  {
   "cell_type": "code",
   "execution_count": null,
   "id": "4fb37cf2",
   "metadata": {},
   "outputs": [],
   "source": [
    "df.drop(columns = ['case_close'], inplace = True)"
   ]
  },
  {
   "cell_type": "markdown",
   "id": "96d6c4dc",
   "metadata": {},
   "source": [
    "### also dropping the `case_ref_num` column since it is unique for each value (can use index as counter)"
   ]
  },
  {
   "cell_type": "code",
   "execution_count": null,
   "id": "10c53ced",
   "metadata": {
    "scrolled": true
   },
   "outputs": [],
   "source": [
    "df.drop(columns = ['case_ref_num'], inplace = True)"
   ]
  },
  {
   "cell_type": "code",
   "execution_count": null,
   "id": "d7b603a9",
   "metadata": {},
   "outputs": [],
   "source": [
    "df.head(2)"
   ]
  },
  {
   "cell_type": "markdown",
   "id": "3f472fad",
   "metadata": {},
   "source": [
    "## Data Dictionary\n",
    "\n",
    "Target | Dtype | Description\n",
    ":--- | :--- | :---\n",
    "`days_to_close` | datetime | the total time in days it took to close the case; feature engineered from `close_date` - `open_date`\n",
    "\n",
    "\n",
    "Variable | Dtype |  Description\n",
    ":--- | :--- | :---\n",
    "`category` | object | top level 311 service request category\n",
    "`case_open` | datetime | the date a case was submitted\n",
    "`sla_due` | dtype | each service request `category` has a due date assigned to the request, based on the dept division `dept_div`\n",
    "`dept` | object | the City deaprtment to whom the case is assigned\n",
    "`dept_div` | object | the department division within the City deaprtment to whom the case is assigned\n",
    "`council_distr` | object | The Council District number from where the issue was reported\n",
    "`zip` | object | the zip code for the reported case/service requested\n",
    "`population` | int | the population for the zip code for the reported case/service requested\n",
    "`avg_inc` | float | the avergae income for the zip code for the reported case/service requested\n",
    "`lat` | float | the latitude coordinate for the zip code for the reported case/service requested\n",
    "`long` | float | the longitude coordinate for the zip code for the reported case/service requested\n"
   ]
  },
  {
   "cell_type": "code",
   "execution_count": null,
   "id": "33fa41aa",
   "metadata": {},
   "outputs": [],
   "source": [
    "df.info()"
   ]
  },
  {
   "cell_type": "code",
   "execution_count": null,
   "id": "4a3d2d12",
   "metadata": {},
   "outputs": [],
   "source": [
    "df.days_to_close.value_counts()"
   ]
  },
  {
   "cell_type": "markdown",
   "id": "c0c13f85",
   "metadata": {},
   "source": [
    "### The last step in wrangling the data is splitting...\n",
    "For this pass I am not going to stratify\n",
    ">On the next pass I will come back and create a column with quartile bins for my target `days_to_close` and stratify on that variable column"
   ]
  },
  {
   "cell_type": "code",
   "execution_count": null,
   "id": "a94ec7c8",
   "metadata": {},
   "outputs": [],
   "source": [
    "from sklearn.model_selection import train_test_split\n",
    "\n",
    "# creating test dataset\n",
    "train_validate, test = train_test_split(df, test_size=.2, random_state=12)\n",
    "\n",
    "# creating the train and test datasets\n",
    "train, validate = train_test_split(train_validate, test_size=.3, random_state=12)\n",
    "\n",
    "# verifying the split\n",
    "print(f'train -> {train.shape}')\n",
    "print(f'validate -> {validate.shape}')\n",
    "print(f'test -> {test.shape}')"
   ]
  },
  {
   "cell_type": "code",
   "execution_count": null,
   "id": "8b6cfe01",
   "metadata": {},
   "outputs": [],
   "source": [
    "train.head()"
   ]
  },
  {
   "cell_type": "code",
   "execution_count": null,
   "id": "8db74cd8",
   "metadata": {},
   "outputs": [],
   "source": [
    "validate"
   ]
  },
  {
   "cell_type": "markdown",
   "id": "1544e04b",
   "metadata": {},
   "source": [
    "## df is ready for exploration!"
   ]
  }
 ],
 "metadata": {
  "kernelspec": {
   "display_name": "Python 3",
   "language": "python",
   "name": "python3"
  },
  "language_info": {
   "codemirror_mode": {
    "name": "ipython",
    "version": 3
   },
   "file_extension": ".py",
   "mimetype": "text/x-python",
   "name": "python",
   "nbconvert_exporter": "python",
   "pygments_lexer": "ipython3",
   "version": "3.8.8"
  }
 },
 "nbformat": 4,
 "nbformat_minor": 5
}
